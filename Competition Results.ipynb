{
 "cells": [
  {
   "cell_type": "code",
   "execution_count": 16,
   "metadata": {},
   "outputs": [
    {
     "ename": "ValueError",
     "evalue": "The truth value of a Series is ambiguous. Use a.empty, a.bool(), a.item(), a.any() or a.all().",
     "output_type": "error",
     "traceback": [
      "\u001b[1;31m---------------------------------------------------------------------------\u001b[0m",
      "\u001b[1;31mValueError\u001b[0m                                Traceback (most recent call last)",
      "\u001b[1;32m<ipython-input-16-c39069fd504a>\u001b[0m in \u001b[0;36m<module>\u001b[1;34m\u001b[0m\n\u001b[0;32m      9\u001b[0m \u001b[0mcompetition_id\u001b[0m \u001b[1;33m=\u001b[0m \u001b[1;34m'7923'\u001b[0m\u001b[1;33m\u001b[0m\u001b[1;33m\u001b[0m\u001b[0m\n\u001b[0;32m     10\u001b[0m \u001b[1;33m\u001b[0m\u001b[0m\n\u001b[1;32m---> 11\u001b[1;33m \u001b[1;32mif\u001b[0m \u001b[0mcompetition_overview_df\u001b[0m\u001b[1;33m[\u001b[0m\u001b[0mcompetition_overview_df\u001b[0m\u001b[1;33m[\u001b[0m\u001b[1;34m'compId'\u001b[0m\u001b[1;33m]\u001b[0m \u001b[1;33m==\u001b[0m \u001b[0mcompetition_id\u001b[0m\u001b[1;33m]\u001b[0m\u001b[1;33m[\u001b[0m\u001b[1;34m'isBoulderingComp'\u001b[0m\u001b[1;33m]\u001b[0m \u001b[1;33m==\u001b[0m \u001b[1;36m1\u001b[0m\u001b[1;33m:\u001b[0m\u001b[1;33m\u001b[0m\u001b[1;33m\u001b[0m\u001b[0m\n\u001b[0m\u001b[0;32m     12\u001b[0m     \u001b[1;32mfor\u001b[0m \u001b[0mcategory\u001b[0m \u001b[1;32min\u001b[0m \u001b[1;33m[\u001b[0m\u001b[1;34m'5'\u001b[0m\u001b[1;33m,\u001b[0m \u001b[1;34m'6'\u001b[0m\u001b[1;33m]\u001b[0m\u001b[1;33m:\u001b[0m\u001b[1;33m\u001b[0m\u001b[1;33m\u001b[0m\u001b[0m\n\u001b[0;32m     13\u001b[0m         \u001b[0mdf_category\u001b[0m \u001b[1;33m=\u001b[0m \u001b[0mclimbing_category\u001b[0m\u001b[1;33m(\u001b[0m\u001b[0mcategory\u001b[0m\u001b[1;33m)\u001b[0m\u001b[1;33m\u001b[0m\u001b[1;33m\u001b[0m\u001b[0m\n",
      "\u001b[1;32mE:\\Data\\lib\\site-packages\\pandas\\core\\generic.py\u001b[0m in \u001b[0;36m__nonzero__\u001b[1;34m(self)\u001b[0m\n\u001b[0;32m   1476\u001b[0m         raise ValueError(\"The truth value of a {0} is ambiguous. \"\n\u001b[0;32m   1477\u001b[0m                          \u001b[1;34m\"Use a.empty, a.bool(), a.item(), a.any() or a.all().\"\u001b[0m\u001b[1;33m\u001b[0m\u001b[1;33m\u001b[0m\u001b[0m\n\u001b[1;32m-> 1478\u001b[1;33m                          .format(self.__class__.__name__))\n\u001b[0m\u001b[0;32m   1479\u001b[0m \u001b[1;33m\u001b[0m\u001b[0m\n\u001b[0;32m   1480\u001b[0m     \u001b[0m__bool__\u001b[0m \u001b[1;33m=\u001b[0m \u001b[0m__nonzero__\u001b[0m\u001b[1;33m\u001b[0m\u001b[1;33m\u001b[0m\u001b[0m\n",
      "\u001b[1;31mValueError\u001b[0m: The truth value of a Series is ambiguous. Use a.empty, a.bool(), a.item(), a.any() or a.all()."
     ]
    }
   ],
   "source": [
    "# import requests\n",
    "# import pandas as pd\n",
    "# from all_comps import climbing_category, competition_overview_df\n",
    "import all_comps\n",
    "\n",
    "# for comp in competition_overview_df:\n",
    "base_url = 'http://egw.ifsc-climbing.org/egw/ranking/json.php?'\n",
    "# competition_id = comp['compId']\n",
    "competition_id = '7923'\n",
    "\n",
    "if competition_overview_df[competition_overview_df['compId'] == competition_id]['isBoulderingComp'] == 1:    \n",
    "    for category in ['5', '6']:\n",
    "        df_category = climbing_category(category)\n",
    "\n",
    "        for stage in ['0', '1', '2', '3']:\n",
    "            df_stage = competition_stage(stage)\n",
    "\n",
    "            url = base_url + 'comp=' + competition_id + '&cat=' + category + '&route=' + stage\n",
    "            comp_json = requests.get(url).json()\n",
    "\n",
    "            # Adding stage information to main competition overview dataframe\n",
    "            competition_overview_df.loc[competition_overview_df['compId'] == competition_id, 'isoOpen' + df_stage + df_category] = comp_json.get('route_iso_open')\n",
    "            competition_overview_df.loc[competition_overview_df['compId'] == competition_id, 'isoClose' + df_stage + df_category] = comp_json.get('route_iso_close')\n",
    "            competition_overview_df.loc[competition_overview_df['compId'] == competition_id, 'stageStart' + df_stage + df_category] = comp_json.get('route_start')\n",
    "            competition_overview_df.loc[competition_overview_df['compId'] == competition_id, 'numProblems' + df_stage + df_category] = comp_json.get('route_num_problems')\n",
    "            competition_overview_df.loc[competition_overview_df['compId'] == competition_id, 'climbingTime' + df_stage + df_category] = comp_json.get('route_climbing_time')\n",
    "\n",
    "# competition_overview_df\n",
    "# comp_json\n"
   ]
  },
  {
   "cell_type": "code",
   "execution_count": null,
   "metadata": {},
   "outputs": [],
   "source": [
    "def get_stage_results(url_json):\n",
    "    new_stage_rows = []    \n",
    "    for climber in comp_json['participants']:\n",
    "        new_comp_stage = dict()\n",
    "        \n",
    "        # This same information needs to be in the row for every climber\n",
    "        new_comp_stage.update({\n",
    "            'compId': comp_json.get('WetId'),\n",
    "            'category': climbing_category(comp_json.get('GrpId')),\n",
    "            'stage': competition_stage(comp_json['route_order'])\n",
    "        })\n",
    "\n",
    "        # Get climber's results for this stage\n",
    "        new_comp_stage.update({\n",
    "            'climberID': climber.get('PerId'),\n",
    "            'startOrder': climber.get('start_order'),\n",
    "            'rankAfterStage' : climber.get('result_rank'),\n",
    "            'boulder1': climber.get('boulder1'),\n",
    "            'boulder2': climber.get('boulder2'),\n",
    "            'boulder3': climber.get('boulder3'),\n",
    "            'boulder4': climber.get('boulder4'),\n",
    "            'boulder5': climber.get('boulder5'),\n",
    "        })\n",
    "        \n",
    "        # Append new row dictionary, (representing a stage of a comp), in the new_stage_rows list\n",
    "        new_stage_rows.append(new_comp_stage)\n",
    "\n",
    "    # Return new rows to insert in dataframe\n",
    "    return new_stage_rows"
   ]
  },
  {
   "cell_type": "code",
   "execution_count": null,
   "metadata": {},
   "outputs": [],
   "source": [
    "def competition_stage(stage, intext=1):\n",
    "    external_stages = {\n",
    "        '-1': 'General result',\n",
    "        '0': '1. Qualification',\n",
    "        '1': '2. Qualification',\n",
    "        '2': 'Semi-Final',\n",
    "        '3': 'Final'\n",
    "    }\n",
    "    df_stages = {\n",
    "        '0': 'Q1',\n",
    "        '1': 'Q2',\n",
    "        '2': 'SF',\n",
    "        '3': 'F'\n",
    "    }\n",
    "    return df_stages.get(stage, 'Other') if intext == 1 else external_stages.get(stage, 'Other')"
   ]
  }
 ],
 "metadata": {
  "kernelspec": {
   "display_name": "Python 3",
   "language": "python",
   "name": "python3"
  },
  "language_info": {
   "codemirror_mode": {
    "name": "ipython",
    "version": 3
   },
   "file_extension": ".py",
   "mimetype": "text/x-python",
   "name": "python",
   "nbconvert_exporter": "python",
   "pygments_lexer": "ipython3",
   "version": "3.7.3"
  }
 },
 "nbformat": 4,
 "nbformat_minor": 2
}
